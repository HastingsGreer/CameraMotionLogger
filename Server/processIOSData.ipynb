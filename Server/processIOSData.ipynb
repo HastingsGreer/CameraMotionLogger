{
 "cells": [
  {
   "cell_type": "code",
   "execution_count": 79,
   "metadata": {},
   "outputs": [
    {
     "name": "stdout",
     "output_type": "stream",
     "text": [
      "yay\n"
     ]
    }
   ],
   "source": [
    "import json\n",
    "import os\n",
    "from PIL import Image\n",
    "import pickle\n",
    "import numpy as np\n",
    "import cv2\n",
    "\n",
    "def getLatestTrack():\n",
    "    dir_ = \"website/uploads/\"\n",
    "    file = sorted(os.listdir(dir_))[-1]\n",
    "    return os.path.join(dir_, file)\n",
    "getLatestTrack()\n",
    "\n",
    "imagesDir = \"website/image_uploads/\"\n",
    "ultrasoundDir = \"../../neuralnet/fastNNServer/outputs/\"\n",
    "class TrackedUS:\n",
    "    def __init__(self, filename):\n",
    "        self.track = np.array(pickle.load(open(getLatestTrack(), \"rb\"))).transpose()\n",
    "        self.time = track[3]\n",
    "        self.startTime = self.time[0]\n",
    "        self.endTime = self.time[-1]\n",
    "        \n",
    "        #load camera pictures for tracking\n",
    "        pictures = os.listdir(imagesDir)[1:]\n",
    "\n",
    "        self.p_timestamps = []\n",
    "\n",
    "        self.p_arrays = []\n",
    "        for p in pictures:\n",
    "            t_float = float(p[:-4])\n",
    "            if self.startTime < t_float < self.endTime:\n",
    "                self.p_timestamps.append(t_float)\n",
    "                self.p_arrays.append(np.rot90(np.array(Image.open(imagesDir + p)), 3))\n",
    "        #load ultrasound images\n",
    "        \n",
    "        for us in os.listdir(ultrasoundDir):\n",
    "            usStart, usEnd = [float(timeStamp) for timeStamp in us.split(\"_\")]\n",
    "            \n",
    "            if usStart < self.startTime < self.endTime < usEnd:\n",
    "                print(\"yay\")\n",
    "                self.ultrasound = pickle.load(open(ultrasoundDir + us, \"rb\"))\n",
    "                break\n",
    "        else:\n",
    "            raise Exception(\"no ultrasound found that covers the time of the track\")\n",
    "    def getAttitudeFromTimestamp(self, t):\n",
    "        return [np.interp([t], track[3], track[0]), \n",
    "                np.interp([t], track[3], track[1]),\n",
    "                np.interp([t], track[3], track[2])]\n",
    "    \n",
    "    def playUS(self):\n",
    "        for el in self.ultrasound:\n",
    "            cv2.imshow(\"ultra\", el[1])\n",
    "            cv2.waitKey(10)\n",
    "    def playVideo(self):\n",
    "        for arr in self.p_arrays:\n",
    "            cv2.imshow(\"ultra\", arr)\n",
    "            cv2.waitKey(10)\n",
    "    def play(self):\n",
    "        us_index = 0\n",
    "        video_index = 0\n",
    "        try:\n",
    "            while True:\n",
    "                if self.p_timestamps[video_index] < self.ultrasound[us_index][0]:\n",
    "                    cv2.imshow(\"vid\", self.p_arrays[video_index])\n",
    "                    cv2.waitKey(10)\n",
    "                    video_index += 1\n",
    "                else:\n",
    "                    cv2.imshow(\"ultra\", self.ultrasound[us_index][1])\n",
    "                    cv2.waitKey(10)\n",
    "                    us_index += 1\n",
    "        except IndexError:\n",
    "            print(us_index, video_index)\n",
    "        print(done)\n",
    "    def play2(self):\n",
    "        us_index = 0\n",
    "        video_index = 0\n",
    "        try:\n",
    "            while True:\n",
    "                \n",
    "                if self.p_timestamps[video_index] < self.ultrasound[us_index][0]:\n",
    "                    arr = self.p_arrays[video_index][::3, ::3]\n",
    "                    v_timestamp = self.p_timestamps[video_index]\n",
    "                    out = scipy.ndimage.rotate(arr, \n",
    "                        -self.getAttitudeFromTimestamp(v_timestamp)[1] * 360 / (2 * np.pi))\n",
    "                    cv2.imshow(\"vid\", out)\n",
    "                    cv2.waitKey(10)\n",
    "                    video_index += 1\n",
    "                else:\n",
    "                    arr = self.ultrasound[us_index][1][::3, ::3]\n",
    "                    u_timestamp = self.ultrasound[us_index][0]\n",
    "                    out = scipy.ndimage.rotate(arr, \n",
    "                        -self.getAttitudeFromTimestamp(u_timestamp)[1] * 360 / (2 * np.pi))\n",
    "                    cv2.imshow(\"ultra\", out)\n",
    "                    cv2.waitKey(10)\n",
    "                    us_index += 1\n",
    "        except IndexError:\n",
    "            print(us_index, video_index)\n",
    "        print(\"done\")\n",
    "\n",
    "my_us = TrackedUS(getLatestTrack)\n",
    "#my_us.playUS()\n",
    "#my_us.playVideo()"
   ]
  },
  {
   "cell_type": "code",
   "execution_count": 80,
   "metadata": {},
   "outputs": [
    {
     "ename": "KeyboardInterrupt",
     "evalue": "",
     "output_type": "error",
     "traceback": [
      "\u001b[1;31m---------------------------------------------------------------------------\u001b[0m",
      "\u001b[1;31mKeyboardInterrupt\u001b[0m                         Traceback (most recent call last)",
      "\u001b[1;32m<ipython-input-80-d352fdbc2dfe>\u001b[0m in \u001b[0;36m<module>\u001b[1;34m()\u001b[0m\n\u001b[1;32m----> 1\u001b[1;33m \u001b[0mmy_us\u001b[0m\u001b[1;33m.\u001b[0m\u001b[0mplay2\u001b[0m\u001b[1;33m(\u001b[0m\u001b[1;33m)\u001b[0m\u001b[1;33m\u001b[0m\u001b[0m\n\u001b[0m",
      "\u001b[1;32m<ipython-input-79-169381a754da>\u001b[0m in \u001b[0;36mplay2\u001b[1;34m(self)\u001b[0m\n\u001b[0;32m     82\u001b[0m                     \u001b[0mv_timestamp\u001b[0m \u001b[1;33m=\u001b[0m \u001b[0mself\u001b[0m\u001b[1;33m.\u001b[0m\u001b[0mp_timestamps\u001b[0m\u001b[1;33m[\u001b[0m\u001b[0mvideo_index\u001b[0m\u001b[1;33m]\u001b[0m\u001b[1;33m\u001b[0m\u001b[0m\n\u001b[0;32m     83\u001b[0m                     out = scipy.ndimage.rotate(arr, \n\u001b[1;32m---> 84\u001b[1;33m                         -self.getAttitudeFromTimestamp(v_timestamp)[1] * 360 / (2 * np.pi))\n\u001b[0m\u001b[0;32m     85\u001b[0m                     \u001b[0mcv2\u001b[0m\u001b[1;33m.\u001b[0m\u001b[0mimshow\u001b[0m\u001b[1;33m(\u001b[0m\u001b[1;34m\"vid\"\u001b[0m\u001b[1;33m,\u001b[0m \u001b[0mout\u001b[0m\u001b[1;33m)\u001b[0m\u001b[1;33m\u001b[0m\u001b[0m\n\u001b[0;32m     86\u001b[0m                     \u001b[0mcv2\u001b[0m\u001b[1;33m.\u001b[0m\u001b[0mwaitKey\u001b[0m\u001b[1;33m(\u001b[0m\u001b[1;36m10\u001b[0m\u001b[1;33m)\u001b[0m\u001b[1;33m\u001b[0m\u001b[0m\n",
      "\u001b[1;32mc:\\users\\hasti\\anaconda3\\envs\\neuralnets\\lib\\site-packages\\scipy\\ndimage\\interpolation.py\u001b[0m in \u001b[0;36mrotate\u001b[1;34m(input, angle, axes, reshape, output, order, mode, cval, prefilter)\u001b[0m\n\u001b[0;32m    745\u001b[0m             \u001b[0moa\u001b[0m \u001b[1;33m=\u001b[0m \u001b[0moutput\u001b[0m\u001b[1;33m[\u001b[0m\u001b[0mtuple\u001b[0m\u001b[1;33m(\u001b[0m\u001b[0mcoordinates\u001b[0m\u001b[1;33m)\u001b[0m\u001b[1;33m]\u001b[0m\u001b[1;33m\u001b[0m\u001b[0m\n\u001b[0;32m    746\u001b[0m             affine_transform(ia, matrix, offset, os, oa, order, mode,\n\u001b[1;32m--> 747\u001b[1;33m                              cval, prefilter)\n\u001b[0m\u001b[0;32m    748\u001b[0m             \u001b[1;32mfor\u001b[0m \u001b[0mjj\u001b[0m \u001b[1;32min\u001b[0m \u001b[0miter_axes\u001b[0m\u001b[1;33m:\u001b[0m\u001b[1;33m\u001b[0m\u001b[0m\n\u001b[0;32m    749\u001b[0m                 \u001b[1;32mif\u001b[0m \u001b[0mcoordinates\u001b[0m\u001b[1;33m[\u001b[0m\u001b[0mjj\u001b[0m\u001b[1;33m]\u001b[0m \u001b[1;33m<\u001b[0m \u001b[0minput\u001b[0m\u001b[1;33m.\u001b[0m\u001b[0mshape\u001b[0m\u001b[1;33m[\u001b[0m\u001b[0mjj\u001b[0m\u001b[1;33m]\u001b[0m \u001b[1;33m-\u001b[0m \u001b[1;36m1\u001b[0m\u001b[1;33m:\u001b[0m\u001b[1;33m\u001b[0m\u001b[0m\n",
      "\u001b[1;32mc:\\users\\hasti\\anaconda3\\envs\\neuralnets\\lib\\site-packages\\scipy\\ndimage\\interpolation.py\u001b[0m in \u001b[0;36maffine_transform\u001b[1;34m(input, matrix, offset, output_shape, output, order, mode, cval, prefilter)\u001b[0m\n\u001b[0;32m    468\u001b[0m     \u001b[1;32melse\u001b[0m\u001b[1;33m:\u001b[0m\u001b[1;33m\u001b[0m\u001b[0m\n\u001b[0;32m    469\u001b[0m         _geometric_transform(filtered, None, None, matrix, offset,\n\u001b[1;32m--> 470\u001b[1;33m                              output, order, mode, cval, None, None)\n\u001b[0m\u001b[0;32m    471\u001b[0m     \u001b[1;32mreturn\u001b[0m \u001b[0mreturn_value\u001b[0m\u001b[1;33m\u001b[0m\u001b[0m\n\u001b[0;32m    472\u001b[0m \u001b[1;33m\u001b[0m\u001b[0m\n",
      "\u001b[1;32mc:\\users\\hasti\\anaconda3\\envs\\neuralnets\\lib\\site-packages\\scipy\\ndimage\\interpolation.py\u001b[0m in \u001b[0;36m_geometric_transform\u001b[1;34m(input, mapping, coordinates, matrix, offset, output, order, mode, cval, extra_arguments, extra_keywords)\u001b[0m\n\u001b[0;32m    130\u001b[0m     _nd_image.geometric_transform(\n\u001b[0;32m    131\u001b[0m         \u001b[0minput\u001b[0m\u001b[1;33m,\u001b[0m \u001b[0mmapping\u001b[0m\u001b[1;33m,\u001b[0m \u001b[0mcoordinates\u001b[0m\u001b[1;33m,\u001b[0m \u001b[0mmatrix\u001b[0m\u001b[1;33m,\u001b[0m \u001b[0moffset\u001b[0m\u001b[1;33m,\u001b[0m \u001b[0moutput\u001b[0m\u001b[1;33m,\u001b[0m\u001b[1;33m\u001b[0m\u001b[0m\n\u001b[1;32m--> 132\u001b[1;33m         order, mode, cval, extra_arguments, extra_keywords)\n\u001b[0m\u001b[0;32m    133\u001b[0m \u001b[1;33m\u001b[0m\u001b[0m\n\u001b[0;32m    134\u001b[0m     \u001b[1;32mif\u001b[0m \u001b[0moutput\u001b[0m \u001b[1;32mis\u001b[0m \u001b[1;32mnot\u001b[0m \u001b[1;32mNone\u001b[0m \u001b[1;32mand\u001b[0m \u001b[1;32mnot\u001b[0m \u001b[0moutput\u001b[0m\u001b[1;33m.\u001b[0m\u001b[0mdtype\u001b[0m\u001b[1;33m.\u001b[0m\u001b[0misnative\u001b[0m\u001b[1;33m:\u001b[0m\u001b[1;33m\u001b[0m\u001b[0m\n",
      "\u001b[1;31mKeyboardInterrupt\u001b[0m: "
     ]
    }
   ],
   "source": [
    "my_us.play2()\n"
   ]
  },
  {
   "cell_type": "code",
   "execution_count": 38,
   "metadata": {
    "collapsed": true
   },
   "outputs": [],
   "source": []
  },
  {
   "cell_type": "code",
   "execution_count": null,
   "metadata": {},
   "outputs": [],
   "source": []
  },
  {
   "cell_type": "code",
   "execution_count": null,
   "metadata": {},
   "outputs": [],
   "source": []
  },
  {
   "cell_type": "code",
   "execution_count": null,
   "metadata": {},
   "outputs": [],
   "source": [
    "\n"
   ]
  },
  {
   "cell_type": "code",
   "execution_count": null,
   "metadata": {
    "collapsed": true
   },
   "outputs": [],
   "source": []
  },
  {
   "cell_type": "code",
   "execution_count": null,
   "metadata": {
    "collapsed": true
   },
   "outputs": [],
   "source": []
  },
  {
   "cell_type": "code",
   "execution_count": null,
   "metadata": {},
   "outputs": [],
   "source": []
  },
  {
   "cell_type": "code",
   "execution_count": null,
   "metadata": {},
   "outputs": [],
   "source": []
  },
  {
   "cell_type": "code",
   "execution_count": null,
   "metadata": {},
   "outputs": [],
   "source": []
  },
  {
   "cell_type": "code",
   "execution_count": null,
   "metadata": {},
   "outputs": [],
   "source": []
  },
  {
   "cell_type": "code",
   "execution_count": 42,
   "metadata": {},
   "outputs": [],
   "source": [
    "\n"
   ]
  },
  {
   "cell_type": "code",
   "execution_count": 77,
   "metadata": {
    "collapsed": true
   },
   "outputs": [],
   "source": [
    "cv2.waitKey?"
   ]
  },
  {
   "cell_type": "code",
   "execution_count": null,
   "metadata": {
    "collapsed": true
   },
   "outputs": [],
   "source": []
  }
 ],
 "metadata": {
  "kernelspec": {
   "display_name": "Python 3",
   "language": "python",
   "name": "python3"
  },
  "language_info": {
   "codemirror_mode": {
    "name": "ipython",
    "version": 3
   },
   "file_extension": ".py",
   "mimetype": "text/x-python",
   "name": "python",
   "nbconvert_exporter": "python",
   "pygments_lexer": "ipython3",
   "version": "3.5.3"
  }
 },
 "nbformat": 4,
 "nbformat_minor": 2
}
